{
 "cells": [
  {
   "cell_type": "code",
   "execution_count": 1,
   "metadata": {},
   "outputs": [],
   "source": [
    "import feedparser\n",
    "import pandas as pd\n",
    "import numpy as np\n",
    "\n",
    "from bs4 import BeautifulSoup \n",
    "import urllib"
   ]
  },
  {
   "cell_type": "markdown",
   "metadata": {},
   "source": [
    "### URL of News website RSS"
   ]
  },
  {
   "cell_type": "code",
   "execution_count": 2,
   "metadata": {},
   "outputs": [],
   "source": [
    "#cnn news rss\n",
    "rss_url = \"http://rss.cnn.com/rss/cnn_topstories.rss\""
   ]
  },
  {
   "cell_type": "markdown",
   "metadata": {},
   "source": [
    "### functions used in this code"
   ]
  },
  {
   "cell_type": "code",
   "execution_count": 7,
   "metadata": {},
   "outputs": [],
   "source": [
    "# fetch the rss feed and return the parsed RSS\n",
    "def parseRSS(url):\n",
    "    return feedparser.parse(url) \n",
    "\n",
    "# return list of news' info in specific area \n",
    "def getInfo(data, area):\n",
    "    info = []\n",
    "    for news in data['entries']:\n",
    "        try:\n",
    "            info.append(news[area])\n",
    "        except:\n",
    "            info.append(\"\")\n",
    "    return info\n",
    "\n",
    "#parse Html in link\n",
    "def parseHTML(url):\n",
    "    url = urllib.request.urlopen(url)\n",
    "    content = url.read()\n",
    "    soup = BeautifulSoup(content, \"html.parser\")\n",
    "    return soup"
   ]
  },
  {
   "cell_type": "markdown",
   "metadata": {},
   "source": [
    "### parse XML"
   ]
  },
  {
   "cell_type": "code",
   "execution_count": 4,
   "metadata": {},
   "outputs": [],
   "source": [
    "data = parseRSS(rss_url)"
   ]
  },
  {
   "cell_type": "markdown",
   "metadata": {},
   "source": [
    "### create DataFrame"
   ]
  },
  {
   "cell_type": "code",
   "execution_count": 10,
   "metadata": {},
   "outputs": [],
   "source": [
    "df = pd.DataFrame()\n",
    "areas = [\"title\", \"published\", \"summary\", \"link\"]"
   ]
  },
  {
   "cell_type": "code",
   "execution_count": 11,
   "metadata": {},
   "outputs": [],
   "source": [
    "for area in areas:\n",
    "    df[area] = getInfo(data, area)"
   ]
  },
  {
   "cell_type": "code",
   "execution_count": 12,
   "metadata": {},
   "outputs": [],
   "source": [
    "#rename columns\n",
    "df.columns = [\"title\", \"date\", \"description\", \"link\"]"
   ]
  },
  {
   "cell_type": "code",
   "execution_count": 13,
   "metadata": {},
   "outputs": [
    {
     "data": {
      "text/html": [
       "<div>\n",
       "<style scoped>\n",
       "    .dataframe tbody tr th:only-of-type {\n",
       "        vertical-align: middle;\n",
       "    }\n",
       "\n",
       "    .dataframe tbody tr th {\n",
       "        vertical-align: top;\n",
       "    }\n",
       "\n",
       "    .dataframe thead th {\n",
       "        text-align: right;\n",
       "    }\n",
       "</style>\n",
       "<table border=\"1\" class=\"dataframe\">\n",
       "  <thead>\n",
       "    <tr style=\"text-align: right;\">\n",
       "      <th></th>\n",
       "      <th>title</th>\n",
       "      <th>date</th>\n",
       "      <th>description</th>\n",
       "      <th>link</th>\n",
       "    </tr>\n",
       "  </thead>\n",
       "  <tbody>\n",
       "    <tr>\n",
       "      <th>0</th>\n",
       "      <td>The anonymous whistleblower has tentatively ag...</td>\n",
       "      <td>Thu, 26 Sep 2019 01:17:26 GMT</td>\n",
       "      <td>The anonymous whistleblower who filed a compla...</td>\n",
       "      <td>http://rss.cnn.com/~r/rss/cnn_topstories/~3/ez...</td>\n",
       "    </tr>\n",
       "    <tr>\n",
       "      <th>1</th>\n",
       "      <td>Trump stays defiant: 'I didn't do it. There wa...</td>\n",
       "      <td></td>\n",
       "      <td>&lt;div class=\"feedflare\"&gt;\\n&lt;a href=\"http://rss.c...</td>\n",
       "      <td>http://rss.cnn.com/~r/rss/cnn_topstories/~3/5P...</td>\n",
       "    </tr>\n",
       "    <tr>\n",
       "      <th>2</th>\n",
       "      <td>Reaction: Baldwin examines Trump's bizarre Pel...</td>\n",
       "      <td>Wed, 25 Sep 2019 21:16:43 GMT</td>\n",
       "      <td>CNN's Brooke Baldwin reacts to President Donal...</td>\n",
       "      <td>http://rss.cnn.com/~r/rss/cnn_topstories/~3/bc...</td>\n",
       "    </tr>\n",
       "    <tr>\n",
       "      <th>3</th>\n",
       "      <td>Timeline: Tracking White House contacts and Uk...</td>\n",
       "      <td>Thu, 26 Sep 2019 02:12:33 GMT</td>\n",
       "      <td>&lt;div class=\"feedflare\"&gt;\\n&lt;a href=\"http://rss.c...</td>\n",
       "      <td>http://rss.cnn.com/~r/rss/cnn_topstories/~3/cs...</td>\n",
       "    </tr>\n",
       "    <tr>\n",
       "      <th>4</th>\n",
       "      <td>Washington Post: Acting spy chief threatened t...</td>\n",
       "      <td>Wed, 25 Sep 2019 21:28:07 GMT</td>\n",
       "      <td>Acting Director of National Intelligence Josep...</td>\n",
       "      <td>http://rss.cnn.com/~r/rss/cnn_topstories/~3/TK...</td>\n",
       "    </tr>\n",
       "  </tbody>\n",
       "</table>\n",
       "</div>"
      ],
      "text/plain": [
       "                                               title  \\\n",
       "0  The anonymous whistleblower has tentatively ag...   \n",
       "1  Trump stays defiant: 'I didn't do it. There wa...   \n",
       "2  Reaction: Baldwin examines Trump's bizarre Pel...   \n",
       "3  Timeline: Tracking White House contacts and Uk...   \n",
       "4  Washington Post: Acting spy chief threatened t...   \n",
       "\n",
       "                            date  \\\n",
       "0  Thu, 26 Sep 2019 01:17:26 GMT   \n",
       "1                                  \n",
       "2  Wed, 25 Sep 2019 21:16:43 GMT   \n",
       "3  Thu, 26 Sep 2019 02:12:33 GMT   \n",
       "4  Wed, 25 Sep 2019 21:28:07 GMT   \n",
       "\n",
       "                                         description  \\\n",
       "0  The anonymous whistleblower who filed a compla...   \n",
       "1  <div class=\"feedflare\">\\n<a href=\"http://rss.c...   \n",
       "2  CNN's Brooke Baldwin reacts to President Donal...   \n",
       "3  <div class=\"feedflare\">\\n<a href=\"http://rss.c...   \n",
       "4  Acting Director of National Intelligence Josep...   \n",
       "\n",
       "                                                link  \n",
       "0  http://rss.cnn.com/~r/rss/cnn_topstories/~3/ez...  \n",
       "1  http://rss.cnn.com/~r/rss/cnn_topstories/~3/5P...  \n",
       "2  http://rss.cnn.com/~r/rss/cnn_topstories/~3/bc...  \n",
       "3  http://rss.cnn.com/~r/rss/cnn_topstories/~3/cs...  \n",
       "4  http://rss.cnn.com/~r/rss/cnn_topstories/~3/TK...  "
      ]
     },
     "execution_count": 13,
     "metadata": {},
     "output_type": "execute_result"
    }
   ],
   "source": [
    "df.head()"
   ]
  },
  {
   "cell_type": "markdown",
   "metadata": {},
   "source": [
    "### process \"description\" html format to get text"
   ]
  },
  {
   "cell_type": "code",
   "execution_count": 14,
   "metadata": {},
   "outputs": [],
   "source": [
    "for index, row in df.iterrows():\n",
    "    row['description'] = row['description'].split('<div class=\"feedflare\">')[0]"
   ]
  },
  {
   "cell_type": "code",
   "execution_count": 15,
   "metadata": {},
   "outputs": [
    {
     "data": {
      "text/html": [
       "<div>\n",
       "<style scoped>\n",
       "    .dataframe tbody tr th:only-of-type {\n",
       "        vertical-align: middle;\n",
       "    }\n",
       "\n",
       "    .dataframe tbody tr th {\n",
       "        vertical-align: top;\n",
       "    }\n",
       "\n",
       "    .dataframe thead th {\n",
       "        text-align: right;\n",
       "    }\n",
       "</style>\n",
       "<table border=\"1\" class=\"dataframe\">\n",
       "  <thead>\n",
       "    <tr style=\"text-align: right;\">\n",
       "      <th></th>\n",
       "      <th>title</th>\n",
       "      <th>date</th>\n",
       "      <th>description</th>\n",
       "      <th>link</th>\n",
       "    </tr>\n",
       "  </thead>\n",
       "  <tbody>\n",
       "    <tr>\n",
       "      <th>0</th>\n",
       "      <td>The anonymous whistleblower has tentatively ag...</td>\n",
       "      <td>Thu, 26 Sep 2019 01:17:26 GMT</td>\n",
       "      <td>The anonymous whistleblower who filed a compla...</td>\n",
       "      <td>http://rss.cnn.com/~r/rss/cnn_topstories/~3/ez...</td>\n",
       "    </tr>\n",
       "    <tr>\n",
       "      <th>1</th>\n",
       "      <td>Trump stays defiant: 'I didn't do it. There wa...</td>\n",
       "      <td></td>\n",
       "      <td></td>\n",
       "      <td>http://rss.cnn.com/~r/rss/cnn_topstories/~3/5P...</td>\n",
       "    </tr>\n",
       "    <tr>\n",
       "      <th>2</th>\n",
       "      <td>Reaction: Baldwin examines Trump's bizarre Pel...</td>\n",
       "      <td>Wed, 25 Sep 2019 21:16:43 GMT</td>\n",
       "      <td>CNN's Brooke Baldwin reacts to President Donal...</td>\n",
       "      <td>http://rss.cnn.com/~r/rss/cnn_topstories/~3/bc...</td>\n",
       "    </tr>\n",
       "    <tr>\n",
       "      <th>3</th>\n",
       "      <td>Timeline: Tracking White House contacts and Uk...</td>\n",
       "      <td>Thu, 26 Sep 2019 02:12:33 GMT</td>\n",
       "      <td></td>\n",
       "      <td>http://rss.cnn.com/~r/rss/cnn_topstories/~3/cs...</td>\n",
       "    </tr>\n",
       "    <tr>\n",
       "      <th>4</th>\n",
       "      <td>Washington Post: Acting spy chief threatened t...</td>\n",
       "      <td>Wed, 25 Sep 2019 21:28:07 GMT</td>\n",
       "      <td>Acting Director of National Intelligence Josep...</td>\n",
       "      <td>http://rss.cnn.com/~r/rss/cnn_topstories/~3/TK...</td>\n",
       "    </tr>\n",
       "  </tbody>\n",
       "</table>\n",
       "</div>"
      ],
      "text/plain": [
       "                                               title  \\\n",
       "0  The anonymous whistleblower has tentatively ag...   \n",
       "1  Trump stays defiant: 'I didn't do it. There wa...   \n",
       "2  Reaction: Baldwin examines Trump's bizarre Pel...   \n",
       "3  Timeline: Tracking White House contacts and Uk...   \n",
       "4  Washington Post: Acting spy chief threatened t...   \n",
       "\n",
       "                            date  \\\n",
       "0  Thu, 26 Sep 2019 01:17:26 GMT   \n",
       "1                                  \n",
       "2  Wed, 25 Sep 2019 21:16:43 GMT   \n",
       "3  Thu, 26 Sep 2019 02:12:33 GMT   \n",
       "4  Wed, 25 Sep 2019 21:28:07 GMT   \n",
       "\n",
       "                                         description  \\\n",
       "0  The anonymous whistleblower who filed a compla...   \n",
       "1                                                      \n",
       "2  CNN's Brooke Baldwin reacts to President Donal...   \n",
       "3                                                      \n",
       "4  Acting Director of National Intelligence Josep...   \n",
       "\n",
       "                                                link  \n",
       "0  http://rss.cnn.com/~r/rss/cnn_topstories/~3/ez...  \n",
       "1  http://rss.cnn.com/~r/rss/cnn_topstories/~3/5P...  \n",
       "2  http://rss.cnn.com/~r/rss/cnn_topstories/~3/bc...  \n",
       "3  http://rss.cnn.com/~r/rss/cnn_topstories/~3/cs...  \n",
       "4  http://rss.cnn.com/~r/rss/cnn_topstories/~3/TK...  "
      ]
     },
     "execution_count": 15,
     "metadata": {},
     "output_type": "execute_result"
    }
   ],
   "source": [
    "df.head()"
   ]
  },
  {
   "cell_type": "markdown",
   "metadata": {},
   "source": [
    "### extract news full text from \"link\""
   ]
  },
  {
   "cell_type": "code",
   "execution_count": 27,
   "metadata": {},
   "outputs": [],
   "source": [
    "df[\"full text\"] = \"\"\n",
    "for index, row in df.iterrows():\n",
    "    try:\n",
    "        soup = parseHTML(row[\"link\"]) #get website content from link\n",
    "        content = soup.findAll(\"div\", {\"class\": \"zn-body__paragraph\"}) #get content in <div class=\"zn-body__paragraph\">\n",
    "        text = ' '.join(list(map(lambda x: x.text, content))) #get text between <div>...</div>\n",
    "        row[\"full text\"] = text\n",
    "    except:\n",
    "        continue"
   ]
  },
  {
   "cell_type": "code",
   "execution_count": 28,
   "metadata": {},
   "outputs": [
    {
     "data": {
      "text/html": [
       "<div>\n",
       "<style scoped>\n",
       "    .dataframe tbody tr th:only-of-type {\n",
       "        vertical-align: middle;\n",
       "    }\n",
       "\n",
       "    .dataframe tbody tr th {\n",
       "        vertical-align: top;\n",
       "    }\n",
       "\n",
       "    .dataframe thead th {\n",
       "        text-align: right;\n",
       "    }\n",
       "</style>\n",
       "<table border=\"1\" class=\"dataframe\">\n",
       "  <thead>\n",
       "    <tr style=\"text-align: right;\">\n",
       "      <th></th>\n",
       "      <th>title</th>\n",
       "      <th>date</th>\n",
       "      <th>description</th>\n",
       "      <th>link</th>\n",
       "      <th>full text</th>\n",
       "    </tr>\n",
       "  </thead>\n",
       "  <tbody>\n",
       "    <tr>\n",
       "      <th>0</th>\n",
       "      <td>The anonymous whistleblower has tentatively ag...</td>\n",
       "      <td>Thu, 26 Sep 2019 01:17:26 GMT</td>\n",
       "      <td>The anonymous whistleblower who filed a compla...</td>\n",
       "      <td>http://rss.cnn.com/~r/rss/cnn_topstories/~3/ez...</td>\n",
       "      <td>The meeting could take place on the condition ...</td>\n",
       "    </tr>\n",
       "    <tr>\n",
       "      <th>1</th>\n",
       "      <td>Trump stays defiant: 'I didn't do it. There wa...</td>\n",
       "      <td></td>\n",
       "      <td></td>\n",
       "      <td>http://rss.cnn.com/~r/rss/cnn_topstories/~3/5P...</td>\n",
       "      <td>Sitting in a Manhattan hotel meeting room, the...</td>\n",
       "    </tr>\n",
       "    <tr>\n",
       "      <th>2</th>\n",
       "      <td>Reaction: Baldwin examines Trump's bizarre Pel...</td>\n",
       "      <td>Wed, 25 Sep 2019 21:16:43 GMT</td>\n",
       "      <td>CNN's Brooke Baldwin reacts to President Donal...</td>\n",
       "      <td>http://rss.cnn.com/~r/rss/cnn_topstories/~3/bc...</td>\n",
       "      <td></td>\n",
       "    </tr>\n",
       "    <tr>\n",
       "      <th>3</th>\n",
       "      <td>Timeline: Tracking White House contacts and Uk...</td>\n",
       "      <td>Thu, 26 Sep 2019 02:12:33 GMT</td>\n",
       "      <td></td>\n",
       "      <td>http://rss.cnn.com/~r/rss/cnn_topstories/~3/cs...</td>\n",
       "      <td>The growing controversy stems from a whistlebl...</td>\n",
       "    </tr>\n",
       "    <tr>\n",
       "      <th>4</th>\n",
       "      <td>Washington Post: Acting spy chief threatened t...</td>\n",
       "      <td>Wed, 25 Sep 2019 21:28:07 GMT</td>\n",
       "      <td>Acting Director of National Intelligence Josep...</td>\n",
       "      <td>http://rss.cnn.com/~r/rss/cnn_topstories/~3/TK...</td>\n",
       "      <td>Citing current and former US officials familia...</td>\n",
       "    </tr>\n",
       "  </tbody>\n",
       "</table>\n",
       "</div>"
      ],
      "text/plain": [
       "                                               title  \\\n",
       "0  The anonymous whistleblower has tentatively ag...   \n",
       "1  Trump stays defiant: 'I didn't do it. There wa...   \n",
       "2  Reaction: Baldwin examines Trump's bizarre Pel...   \n",
       "3  Timeline: Tracking White House contacts and Uk...   \n",
       "4  Washington Post: Acting spy chief threatened t...   \n",
       "\n",
       "                            date  \\\n",
       "0  Thu, 26 Sep 2019 01:17:26 GMT   \n",
       "1                                  \n",
       "2  Wed, 25 Sep 2019 21:16:43 GMT   \n",
       "3  Thu, 26 Sep 2019 02:12:33 GMT   \n",
       "4  Wed, 25 Sep 2019 21:28:07 GMT   \n",
       "\n",
       "                                         description  \\\n",
       "0  The anonymous whistleblower who filed a compla...   \n",
       "1                                                      \n",
       "2  CNN's Brooke Baldwin reacts to President Donal...   \n",
       "3                                                      \n",
       "4  Acting Director of National Intelligence Josep...   \n",
       "\n",
       "                                                link  \\\n",
       "0  http://rss.cnn.com/~r/rss/cnn_topstories/~3/ez...   \n",
       "1  http://rss.cnn.com/~r/rss/cnn_topstories/~3/5P...   \n",
       "2  http://rss.cnn.com/~r/rss/cnn_topstories/~3/bc...   \n",
       "3  http://rss.cnn.com/~r/rss/cnn_topstories/~3/cs...   \n",
       "4  http://rss.cnn.com/~r/rss/cnn_topstories/~3/TK...   \n",
       "\n",
       "                                           full text  \n",
       "0  The meeting could take place on the condition ...  \n",
       "1  Sitting in a Manhattan hotel meeting room, the...  \n",
       "2                                                     \n",
       "3  The growing controversy stems from a whistlebl...  \n",
       "4  Citing current and former US officials familia...  "
      ]
     },
     "execution_count": 28,
     "metadata": {},
     "output_type": "execute_result"
    }
   ],
   "source": [
    "df.head()"
   ]
  },
  {
   "cell_type": "markdown",
   "metadata": {},
   "source": [
    "### output dataframe to csv"
   ]
  },
  {
   "cell_type": "code",
   "execution_count": 29,
   "metadata": {},
   "outputs": [],
   "source": [
    "df.to_csv(\"cnn_news.csv\", encoding='utf-8')"
   ]
  },
  {
   "cell_type": "code",
   "execution_count": null,
   "metadata": {},
   "outputs": [],
   "source": []
  }
 ],
 "metadata": {
  "kernelspec": {
   "display_name": "Python 3",
   "language": "python",
   "name": "python3"
  },
  "language_info": {
   "codemirror_mode": {
    "name": "ipython",
    "version": 3
   },
   "file_extension": ".py",
   "mimetype": "text/x-python",
   "name": "python",
   "nbconvert_exporter": "python",
   "pygments_lexer": "ipython3",
   "version": "3.6.8"
  }
 },
 "nbformat": 4,
 "nbformat_minor": 2
}
