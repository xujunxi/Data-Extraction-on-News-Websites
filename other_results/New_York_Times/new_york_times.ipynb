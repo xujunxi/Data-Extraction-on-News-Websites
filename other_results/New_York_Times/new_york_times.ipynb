{
 "cells": [
  {
   "cell_type": "code",
   "execution_count": 1,
   "metadata": {},
   "outputs": [],
   "source": [
    "import feedparser\n",
    "import pandas as pd\n",
    "import numpy as np\n",
    "\n",
    "from bs4 import BeautifulSoup \n",
    "import urllib"
   ]
  },
  {
   "cell_type": "markdown",
   "metadata": {},
   "source": [
    "### URL of News website RSS"
   ]
  },
  {
   "cell_type": "code",
   "execution_count": 2,
   "metadata": {},
   "outputs": [],
   "source": [
    "#new_york_times news rss\n",
    "rss_url = \"https://rss.nytimes.com/services/xml/rss/nyt/World.xml\""
   ]
  },
  {
   "cell_type": "markdown",
   "metadata": {},
   "source": [
    "### functions used in this code"
   ]
  },
  {
   "cell_type": "code",
   "execution_count": 3,
   "metadata": {},
   "outputs": [],
   "source": [
    "# fetch the rss feed and return the parsed RSS\n",
    "def parseRSS(url):\n",
    "    return feedparser.parse(url) \n",
    "\n",
    "# return list of news' info in specific area \n",
    "def getInfo(data, area):\n",
    "    info = []\n",
    "    for news in data['entries']:\n",
    "        try:\n",
    "            info.append(news[area])\n",
    "        except:\n",
    "            info.append(\"\")\n",
    "    return info\n",
    "\n",
    "#parse Html in link\n",
    "def parseHTML(url):\n",
    "    url = urllib.request.urlopen(url)\n",
    "    content = url.read()\n",
    "    soup = BeautifulSoup(content, \"html.parser\")\n",
    "    return soup"
   ]
  },
  {
   "cell_type": "markdown",
   "metadata": {},
   "source": [
    "### parse XML"
   ]
  },
  {
   "cell_type": "code",
   "execution_count": 4,
   "metadata": {},
   "outputs": [],
   "source": [
    "data = parseRSS(rss_url)"
   ]
  },
  {
   "cell_type": "markdown",
   "metadata": {},
   "source": [
    "### create DataFrame"
   ]
  },
  {
   "cell_type": "code",
   "execution_count": 5,
   "metadata": {},
   "outputs": [],
   "source": [
    "df = pd.DataFrame()\n",
    "areas = [\"title\", \"published\", \"author\", \"summary\", \"link\"]"
   ]
  },
  {
   "cell_type": "code",
   "execution_count": 6,
   "metadata": {},
   "outputs": [],
   "source": [
    "for area in areas:\n",
    "    df[area] = getInfo(data, area)"
   ]
  },
  {
   "cell_type": "code",
   "execution_count": 7,
   "metadata": {},
   "outputs": [],
   "source": [
    "#rename columns\n",
    "df.columns = [\"title\", \"date\", \"author\", \"description\", \"link\"]"
   ]
  },
  {
   "cell_type": "code",
   "execution_count": 8,
   "metadata": {},
   "outputs": [
    {
     "data": {
      "text/html": [
       "<div>\n",
       "<style scoped>\n",
       "    .dataframe tbody tr th:only-of-type {\n",
       "        vertical-align: middle;\n",
       "    }\n",
       "\n",
       "    .dataframe tbody tr th {\n",
       "        vertical-align: top;\n",
       "    }\n",
       "\n",
       "    .dataframe thead th {\n",
       "        text-align: right;\n",
       "    }\n",
       "</style>\n",
       "<table border=\"1\" class=\"dataframe\">\n",
       "  <thead>\n",
       "    <tr style=\"text-align: right;\">\n",
       "      <th></th>\n",
       "      <th>title</th>\n",
       "      <th>date</th>\n",
       "      <th>author</th>\n",
       "      <th>description</th>\n",
       "      <th>link</th>\n",
       "    </tr>\n",
       "  </thead>\n",
       "  <tbody>\n",
       "    <tr>\n",
       "      <th>0</th>\n",
       "      <td>White House Bars Iranian Officials From U.S. a...</td>\n",
       "      <td>Thu, 26 Sep 2019 01:14:07 +0000</td>\n",
       "      <td>Farnaz Fassihi, Lara Jakes and Edward Wong</td>\n",
       "      <td>The move was extraordinary given that dozens o...</td>\n",
       "      <td>https://www.nytimes.com/2019/09/25/world/middl...</td>\n",
       "    </tr>\n",
       "    <tr>\n",
       "      <th>1</th>\n",
       "      <td>In a Twist, Netanyahu Wins a Chance to Keep Hi...</td>\n",
       "      <td>Thu, 26 Sep 2019 01:10:58 +0000</td>\n",
       "      <td>Isabel Kershner</td>\n",
       "      <td>The Israeli prime minister, Benjamin Netanyahu...</td>\n",
       "      <td>https://www.nytimes.com/2019/09/25/world/middl...</td>\n",
       "    </tr>\n",
       "    <tr>\n",
       "      <th>2</th>\n",
       "      <td>China Wants the World to Stay Silent on Muslim...</td>\n",
       "      <td>Wed, 25 Sep 2019 17:48:49 +0000</td>\n",
       "      <td>Jane Perlez</td>\n",
       "      <td>Beijing is using economic and diplomatic press...</td>\n",
       "      <td>https://www.nytimes.com/2019/09/25/world/asia/...</td>\n",
       "    </tr>\n",
       "    <tr>\n",
       "      <th>3</th>\n",
       "      <td>Boris Johnson Back Home. Parliament Back in Se...</td>\n",
       "      <td>Wed, 25 Sep 2019 22:47:23 +0000</td>\n",
       "      <td>Stephen Castle</td>\n",
       "      <td>After a stinging Supreme Court defeat, the pri...</td>\n",
       "      <td>https://www.nytimes.com/2019/09/25/world/europ...</td>\n",
       "    </tr>\n",
       "    <tr>\n",
       "      <th>4</th>\n",
       "      <td>Indonesia’s Leader Faces Student Protests and ...</td>\n",
       "      <td>Thu, 26 Sep 2019 01:52:46 +0000</td>\n",
       "      <td>Richard C. Paddock</td>\n",
       "      <td>President Joko Widodo’s decision to limit the ...</td>\n",
       "      <td>https://www.nytimes.com/2019/09/25/world/asia/...</td>\n",
       "    </tr>\n",
       "  </tbody>\n",
       "</table>\n",
       "</div>"
      ],
      "text/plain": [
       "                                               title  \\\n",
       "0  White House Bars Iranian Officials From U.S. a...   \n",
       "1  In a Twist, Netanyahu Wins a Chance to Keep Hi...   \n",
       "2  China Wants the World to Stay Silent on Muslim...   \n",
       "3  Boris Johnson Back Home. Parliament Back in Se...   \n",
       "4  Indonesia’s Leader Faces Student Protests and ...   \n",
       "\n",
       "                              date  \\\n",
       "0  Thu, 26 Sep 2019 01:14:07 +0000   \n",
       "1  Thu, 26 Sep 2019 01:10:58 +0000   \n",
       "2  Wed, 25 Sep 2019 17:48:49 +0000   \n",
       "3  Wed, 25 Sep 2019 22:47:23 +0000   \n",
       "4  Thu, 26 Sep 2019 01:52:46 +0000   \n",
       "\n",
       "                                       author  \\\n",
       "0  Farnaz Fassihi, Lara Jakes and Edward Wong   \n",
       "1                             Isabel Kershner   \n",
       "2                                 Jane Perlez   \n",
       "3                              Stephen Castle   \n",
       "4                          Richard C. Paddock   \n",
       "\n",
       "                                         description  \\\n",
       "0  The move was extraordinary given that dozens o...   \n",
       "1  The Israeli prime minister, Benjamin Netanyahu...   \n",
       "2  Beijing is using economic and diplomatic press...   \n",
       "3  After a stinging Supreme Court defeat, the pri...   \n",
       "4  President Joko Widodo’s decision to limit the ...   \n",
       "\n",
       "                                                link  \n",
       "0  https://www.nytimes.com/2019/09/25/world/middl...  \n",
       "1  https://www.nytimes.com/2019/09/25/world/middl...  \n",
       "2  https://www.nytimes.com/2019/09/25/world/asia/...  \n",
       "3  https://www.nytimes.com/2019/09/25/world/europ...  \n",
       "4  https://www.nytimes.com/2019/09/25/world/asia/...  "
      ]
     },
     "execution_count": 8,
     "metadata": {},
     "output_type": "execute_result"
    }
   ],
   "source": [
    "df.head()"
   ]
  },
  {
   "cell_type": "markdown",
   "metadata": {},
   "source": [
    "### extract news full text from \"link\""
   ]
  },
  {
   "cell_type": "code",
   "execution_count": 9,
   "metadata": {},
   "outputs": [],
   "source": [
    "# soup = parseHTML(\"https://www.nytimes.com/2019/09/25/world/middleeast/us-iran-rouhani-trump.html?emc=rss&partner=rss\") #get website content from link\n",
    "# content = soup.findAll(\"p\") #get content of <p>\n",
    "# content"
   ]
  },
  {
   "cell_type": "code",
   "execution_count": 10,
   "metadata": {},
   "outputs": [],
   "source": [
    "df[\"full text\"] = \"\"\n",
    "for index, row in df.iterrows():\n",
    "    try:\n",
    "        soup = parseHTML(row[\"link\"]) #get website content from link\n",
    "        content = soup.findAll(\"p\", {\"class\": \"css-exrw3m evys1bk0\"}) #get content of <p>\n",
    "        text = ' '.join(list(map(lambda x: x.text, content))) #get text in <p>\n",
    "        row[\"full text\"] = text\n",
    "    except:\n",
    "        continue"
   ]
  },
  {
   "cell_type": "code",
   "execution_count": 11,
   "metadata": {},
   "outputs": [
    {
     "data": {
      "text/html": [
       "<div>\n",
       "<style scoped>\n",
       "    .dataframe tbody tr th:only-of-type {\n",
       "        vertical-align: middle;\n",
       "    }\n",
       "\n",
       "    .dataframe tbody tr th {\n",
       "        vertical-align: top;\n",
       "    }\n",
       "\n",
       "    .dataframe thead th {\n",
       "        text-align: right;\n",
       "    }\n",
       "</style>\n",
       "<table border=\"1\" class=\"dataframe\">\n",
       "  <thead>\n",
       "    <tr style=\"text-align: right;\">\n",
       "      <th></th>\n",
       "      <th>title</th>\n",
       "      <th>date</th>\n",
       "      <th>author</th>\n",
       "      <th>description</th>\n",
       "      <th>link</th>\n",
       "      <th>full text</th>\n",
       "    </tr>\n",
       "  </thead>\n",
       "  <tbody>\n",
       "    <tr>\n",
       "      <th>0</th>\n",
       "      <td>White House Bars Iranian Officials From U.S. a...</td>\n",
       "      <td>Thu, 26 Sep 2019 01:14:07 +0000</td>\n",
       "      <td>Farnaz Fassihi, Lara Jakes and Edward Wong</td>\n",
       "      <td>The move was extraordinary given that dozens o...</td>\n",
       "      <td>https://www.nytimes.com/2019/09/25/world/middl...</td>\n",
       "      <td>UNITED NATIONS — The Trump administration barr...</td>\n",
       "    </tr>\n",
       "    <tr>\n",
       "      <th>1</th>\n",
       "      <td>In a Twist, Netanyahu Wins a Chance to Keep Hi...</td>\n",
       "      <td>Thu, 26 Sep 2019 01:10:58 +0000</td>\n",
       "      <td>Isabel Kershner</td>\n",
       "      <td>The Israeli prime minister, Benjamin Netanyahu...</td>\n",
       "      <td>https://www.nytimes.com/2019/09/25/world/middl...</td>\n",
       "      <td>After the polls closed in the Israeli election...</td>\n",
       "    </tr>\n",
       "    <tr>\n",
       "      <th>2</th>\n",
       "      <td>China Wants the World to Stay Silent on Muslim...</td>\n",
       "      <td>Wed, 25 Sep 2019 17:48:49 +0000</td>\n",
       "      <td>Jane Perlez</td>\n",
       "      <td>Beijing is using economic and diplomatic press...</td>\n",
       "      <td>https://www.nytimes.com/2019/09/25/world/asia/...</td>\n",
       "      <td>BEIJING — When Turkey’s leader, Recep Tayyip E...</td>\n",
       "    </tr>\n",
       "    <tr>\n",
       "      <th>3</th>\n",
       "      <td>Boris Johnson Back Home. Parliament Back in Se...</td>\n",
       "      <td>Wed, 25 Sep 2019 22:47:23 +0000</td>\n",
       "      <td>Stephen Castle</td>\n",
       "      <td>After a stinging Supreme Court defeat, the pri...</td>\n",
       "      <td>https://www.nytimes.com/2019/09/25/world/europ...</td>\n",
       "      <td>LONDON — A day after suffering a crushing rebu...</td>\n",
       "    </tr>\n",
       "    <tr>\n",
       "      <th>4</th>\n",
       "      <td>Indonesia’s Leader Faces Student Protests and ...</td>\n",
       "      <td>Thu, 26 Sep 2019 01:52:46 +0000</td>\n",
       "      <td>Richard C. Paddock</td>\n",
       "      <td>President Joko Widodo’s decision to limit the ...</td>\n",
       "      <td>https://www.nytimes.com/2019/09/25/world/asia/...</td>\n",
       "      <td>JAKARTA, Indonesia — Indonesia’s president, Jo...</td>\n",
       "    </tr>\n",
       "  </tbody>\n",
       "</table>\n",
       "</div>"
      ],
      "text/plain": [
       "                                               title  \\\n",
       "0  White House Bars Iranian Officials From U.S. a...   \n",
       "1  In a Twist, Netanyahu Wins a Chance to Keep Hi...   \n",
       "2  China Wants the World to Stay Silent on Muslim...   \n",
       "3  Boris Johnson Back Home. Parliament Back in Se...   \n",
       "4  Indonesia’s Leader Faces Student Protests and ...   \n",
       "\n",
       "                              date  \\\n",
       "0  Thu, 26 Sep 2019 01:14:07 +0000   \n",
       "1  Thu, 26 Sep 2019 01:10:58 +0000   \n",
       "2  Wed, 25 Sep 2019 17:48:49 +0000   \n",
       "3  Wed, 25 Sep 2019 22:47:23 +0000   \n",
       "4  Thu, 26 Sep 2019 01:52:46 +0000   \n",
       "\n",
       "                                       author  \\\n",
       "0  Farnaz Fassihi, Lara Jakes and Edward Wong   \n",
       "1                             Isabel Kershner   \n",
       "2                                 Jane Perlez   \n",
       "3                              Stephen Castle   \n",
       "4                          Richard C. Paddock   \n",
       "\n",
       "                                         description  \\\n",
       "0  The move was extraordinary given that dozens o...   \n",
       "1  The Israeli prime minister, Benjamin Netanyahu...   \n",
       "2  Beijing is using economic and diplomatic press...   \n",
       "3  After a stinging Supreme Court defeat, the pri...   \n",
       "4  President Joko Widodo’s decision to limit the ...   \n",
       "\n",
       "                                                link  \\\n",
       "0  https://www.nytimes.com/2019/09/25/world/middl...   \n",
       "1  https://www.nytimes.com/2019/09/25/world/middl...   \n",
       "2  https://www.nytimes.com/2019/09/25/world/asia/...   \n",
       "3  https://www.nytimes.com/2019/09/25/world/europ...   \n",
       "4  https://www.nytimes.com/2019/09/25/world/asia/...   \n",
       "\n",
       "                                           full text  \n",
       "0  UNITED NATIONS — The Trump administration barr...  \n",
       "1  After the polls closed in the Israeli election...  \n",
       "2  BEIJING — When Turkey’s leader, Recep Tayyip E...  \n",
       "3  LONDON — A day after suffering a crushing rebu...  \n",
       "4  JAKARTA, Indonesia — Indonesia’s president, Jo...  "
      ]
     },
     "execution_count": 11,
     "metadata": {},
     "output_type": "execute_result"
    }
   ],
   "source": [
    "df.head()"
   ]
  },
  {
   "cell_type": "markdown",
   "metadata": {},
   "source": [
    "### output dataframe to csv"
   ]
  },
  {
   "cell_type": "code",
   "execution_count": 12,
   "metadata": {},
   "outputs": [],
   "source": [
    "df.to_csv(\"new_york_times_news.csv\", encoding='utf-8')"
   ]
  },
  {
   "cell_type": "code",
   "execution_count": null,
   "metadata": {},
   "outputs": [],
   "source": []
  }
 ],
 "metadata": {
  "kernelspec": {
   "display_name": "Python 3",
   "language": "python",
   "name": "python3"
  },
  "language_info": {
   "codemirror_mode": {
    "name": "ipython",
    "version": 3
   },
   "file_extension": ".py",
   "mimetype": "text/x-python",
   "name": "python",
   "nbconvert_exporter": "python",
   "pygments_lexer": "ipython3",
   "version": "3.6.8"
  }
 },
 "nbformat": 4,
 "nbformat_minor": 2
}
