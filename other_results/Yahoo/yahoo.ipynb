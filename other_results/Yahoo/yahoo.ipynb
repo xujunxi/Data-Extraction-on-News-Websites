{
 "cells": [
  {
   "cell_type": "code",
   "execution_count": 1,
   "metadata": {},
   "outputs": [],
   "source": [
    "import feedparser\n",
    "import pandas as pd\n",
    "import numpy as np\n",
    "\n",
    "from bs4 import BeautifulSoup \n",
    "import urllib"
   ]
  },
  {
   "cell_type": "markdown",
   "metadata": {},
   "source": [
    "### URL of News website RSS"
   ]
  },
  {
   "cell_type": "code",
   "execution_count": 2,
   "metadata": {},
   "outputs": [],
   "source": [
    "#yahoo news rss\n",
    "rss_url = \"https://news.yahoo.com/rss/mostviewed\""
   ]
  },
  {
   "cell_type": "markdown",
   "metadata": {},
   "source": [
    "### functions used in this code"
   ]
  },
  {
   "cell_type": "code",
   "execution_count": 3,
   "metadata": {},
   "outputs": [],
   "source": [
    "# fetch the rss feed and return the parsed RSS\n",
    "def parseRSS(url):\n",
    "    return feedparser.parse(url) \n",
    "\n",
    "# return list of news' info in specific area \n",
    "def getInfo(data, area):\n",
    "    info = []\n",
    "    for news in data['entries']:\n",
    "        try:\n",
    "            info.append(news[area])\n",
    "        except:\n",
    "            info.append(\"\")\n",
    "    return info\n",
    "\n",
    "#parse Html in link\n",
    "def parseHTML(url):\n",
    "    url = urllib.request.urlopen(url)\n",
    "    content = url.read()\n",
    "    soup = BeautifulSoup(content, \"html.parser\")\n",
    "    return soup"
   ]
  },
  {
   "cell_type": "markdown",
   "metadata": {},
   "source": [
    "### parse XML"
   ]
  },
  {
   "cell_type": "code",
   "execution_count": 4,
   "metadata": {},
   "outputs": [],
   "source": [
    "data = parseRSS(rss_url)"
   ]
  },
  {
   "cell_type": "markdown",
   "metadata": {},
   "source": [
    "### create DataFrame"
   ]
  },
  {
   "cell_type": "code",
   "execution_count": 5,
   "metadata": {},
   "outputs": [],
   "source": [
    "df = pd.DataFrame()\n",
    "areas = [\"id\", \"title\", \"published\", \"summary\", \"link\"]"
   ]
  },
  {
   "cell_type": "code",
   "execution_count": 6,
   "metadata": {},
   "outputs": [],
   "source": [
    "for area in areas:\n",
    "    df[area] = getInfo(data, area)"
   ]
  },
  {
   "cell_type": "code",
   "execution_count": 7,
   "metadata": {},
   "outputs": [],
   "source": [
    "#rename columns\n",
    "df.columns = [\"id\", \"title\", \"date\", \"description\", \"link\"]"
   ]
  },
  {
   "cell_type": "code",
   "execution_count": 8,
   "metadata": {},
   "outputs": [
    {
     "data": {
      "text/html": [
       "<div>\n",
       "<style scoped>\n",
       "    .dataframe tbody tr th:only-of-type {\n",
       "        vertical-align: middle;\n",
       "    }\n",
       "\n",
       "    .dataframe tbody tr th {\n",
       "        vertical-align: top;\n",
       "    }\n",
       "\n",
       "    .dataframe thead th {\n",
       "        text-align: right;\n",
       "    }\n",
       "</style>\n",
       "<table border=\"1\" class=\"dataframe\">\n",
       "  <thead>\n",
       "    <tr style=\"text-align: right;\">\n",
       "      <th></th>\n",
       "      <th>id</th>\n",
       "      <th>title</th>\n",
       "      <th>date</th>\n",
       "      <th>description</th>\n",
       "      <th>link</th>\n",
       "    </tr>\n",
       "  </thead>\n",
       "  <tbody>\n",
       "    <tr>\n",
       "      <th>0</th>\n",
       "      <td>senator-elizabeth-warrens-net-worth-151126747....</td>\n",
       "      <td>Senator Elizabeth Warren&amp;#39;s net worth revea...</td>\n",
       "      <td>Tue, 24 Sep 2019 11:11:26 -0400</td>\n",
       "      <td>&lt;p&gt;&lt;a href=\"https://news.yahoo.com/senator-eli...</td>\n",
       "      <td>https://news.yahoo.com/senator-elizabeth-warre...</td>\n",
       "    </tr>\n",
       "    <tr>\n",
       "      <th>1</th>\n",
       "      <td>bill-oreilly-says-book-trump-162056672.html</td>\n",
       "      <td>Bill O&amp;#39;Reilly says new book on Trump &amp;#39;...</td>\n",
       "      <td>Tue, 24 Sep 2019 12:20:56 -0400</td>\n",
       "      <td>&lt;p&gt;&lt;a href=\"https://news.yahoo.com/bill-oreill...</td>\n",
       "      <td>https://news.yahoo.com/bill-oreilly-says-book-...</td>\n",
       "    </tr>\n",
       "    <tr>\n",
       "      <th>2</th>\n",
       "      <td>israeli-pm-rival-meet-final-110738975.html</td>\n",
       "      <td>Israel&amp;#39;s Netanyahu given chance to form ne...</td>\n",
       "      <td>Wed, 25 Sep 2019 14:46:04 -0400</td>\n",
       "      <td>&lt;p&gt;&lt;a href=\"https://news.yahoo.com/israeli-pm-...</td>\n",
       "      <td>https://news.yahoo.com/israeli-pm-rival-meet-f...</td>\n",
       "    </tr>\n",
       "    <tr>\n",
       "      <th>3</th>\n",
       "      <td>irans-strange-navy-small-fast-114700802.html</td>\n",
       "      <td>Iran&amp;#39;s Strange Navy of Small, Fast Boats I...</td>\n",
       "      <td>Tue, 24 Sep 2019 07:47:00 -0400</td>\n",
       "      <td>&lt;p&gt;&lt;a href=\"https://news.yahoo.com/irans-stran...</td>\n",
       "      <td>https://news.yahoo.com/irans-strange-navy-smal...</td>\n",
       "    </tr>\n",
       "    <tr>\n",
       "      <th>4</th>\n",
       "      <td>rashida-tlaib-argues-pro-vaping-213301525.html</td>\n",
       "      <td>Rashida Tlaib argues with pro-vaping witness d...</td>\n",
       "      <td>Tue, 24 Sep 2019 17:33:01 -0400</td>\n",
       "      <td>&lt;p&gt;&lt;a href=\"https://news.yahoo.com/rashida-tla...</td>\n",
       "      <td>https://news.yahoo.com/rashida-tlaib-argues-pr...</td>\n",
       "    </tr>\n",
       "  </tbody>\n",
       "</table>\n",
       "</div>"
      ],
      "text/plain": [
       "                                                  id  \\\n",
       "0  senator-elizabeth-warrens-net-worth-151126747....   \n",
       "1        bill-oreilly-says-book-trump-162056672.html   \n",
       "2         israeli-pm-rival-meet-final-110738975.html   \n",
       "3       irans-strange-navy-small-fast-114700802.html   \n",
       "4     rashida-tlaib-argues-pro-vaping-213301525.html   \n",
       "\n",
       "                                               title  \\\n",
       "0  Senator Elizabeth Warren&#39;s net worth revea...   \n",
       "1  Bill O&#39;Reilly says new book on Trump &#39;...   \n",
       "2  Israel&#39;s Netanyahu given chance to form ne...   \n",
       "3  Iran&#39;s Strange Navy of Small, Fast Boats I...   \n",
       "4  Rashida Tlaib argues with pro-vaping witness d...   \n",
       "\n",
       "                              date  \\\n",
       "0  Tue, 24 Sep 2019 11:11:26 -0400   \n",
       "1  Tue, 24 Sep 2019 12:20:56 -0400   \n",
       "2  Wed, 25 Sep 2019 14:46:04 -0400   \n",
       "3  Tue, 24 Sep 2019 07:47:00 -0400   \n",
       "4  Tue, 24 Sep 2019 17:33:01 -0400   \n",
       "\n",
       "                                         description  \\\n",
       "0  <p><a href=\"https://news.yahoo.com/senator-eli...   \n",
       "1  <p><a href=\"https://news.yahoo.com/bill-oreill...   \n",
       "2  <p><a href=\"https://news.yahoo.com/israeli-pm-...   \n",
       "3  <p><a href=\"https://news.yahoo.com/irans-stran...   \n",
       "4  <p><a href=\"https://news.yahoo.com/rashida-tla...   \n",
       "\n",
       "                                                link  \n",
       "0  https://news.yahoo.com/senator-elizabeth-warre...  \n",
       "1  https://news.yahoo.com/bill-oreilly-says-book-...  \n",
       "2  https://news.yahoo.com/israeli-pm-rival-meet-f...  \n",
       "3  https://news.yahoo.com/irans-strange-navy-smal...  \n",
       "4  https://news.yahoo.com/rashida-tlaib-argues-pr...  "
      ]
     },
     "execution_count": 8,
     "metadata": {},
     "output_type": "execute_result"
    }
   ],
   "source": [
    "df.head()"
   ]
  },
  {
   "cell_type": "markdown",
   "metadata": {},
   "source": [
    "### process \"title\" to get rid of weird chars"
   ]
  },
  {
   "cell_type": "code",
   "execution_count": 9,
   "metadata": {},
   "outputs": [],
   "source": [
    "for index, row in df.iterrows():\n",
    "    row['title'] = row['title'].replace('&#39;', '')"
   ]
  },
  {
   "cell_type": "code",
   "execution_count": 10,
   "metadata": {},
   "outputs": [
    {
     "data": {
      "text/html": [
       "<div>\n",
       "<style scoped>\n",
       "    .dataframe tbody tr th:only-of-type {\n",
       "        vertical-align: middle;\n",
       "    }\n",
       "\n",
       "    .dataframe tbody tr th {\n",
       "        vertical-align: top;\n",
       "    }\n",
       "\n",
       "    .dataframe thead th {\n",
       "        text-align: right;\n",
       "    }\n",
       "</style>\n",
       "<table border=\"1\" class=\"dataframe\">\n",
       "  <thead>\n",
       "    <tr style=\"text-align: right;\">\n",
       "      <th></th>\n",
       "      <th>id</th>\n",
       "      <th>title</th>\n",
       "      <th>date</th>\n",
       "      <th>description</th>\n",
       "      <th>link</th>\n",
       "    </tr>\n",
       "  </thead>\n",
       "  <tbody>\n",
       "    <tr>\n",
       "      <th>0</th>\n",
       "      <td>senator-elizabeth-warrens-net-worth-151126747....</td>\n",
       "      <td>Senator Elizabeth Warrens net worth revealed a...</td>\n",
       "      <td>Tue, 24 Sep 2019 11:11:26 -0400</td>\n",
       "      <td>&lt;p&gt;&lt;a href=\"https://news.yahoo.com/senator-eli...</td>\n",
       "      <td>https://news.yahoo.com/senator-elizabeth-warre...</td>\n",
       "    </tr>\n",
       "    <tr>\n",
       "      <th>1</th>\n",
       "      <td>bill-oreilly-says-book-trump-162056672.html</td>\n",
       "      <td>Bill OReilly says new book on Trump will bring...</td>\n",
       "      <td>Tue, 24 Sep 2019 12:20:56 -0400</td>\n",
       "      <td>&lt;p&gt;&lt;a href=\"https://news.yahoo.com/bill-oreill...</td>\n",
       "      <td>https://news.yahoo.com/bill-oreilly-says-book-...</td>\n",
       "    </tr>\n",
       "    <tr>\n",
       "      <th>2</th>\n",
       "      <td>israeli-pm-rival-meet-final-110738975.html</td>\n",
       "      <td>Israels Netanyahu given chance to form new gov...</td>\n",
       "      <td>Wed, 25 Sep 2019 14:46:04 -0400</td>\n",
       "      <td>&lt;p&gt;&lt;a href=\"https://news.yahoo.com/israeli-pm-...</td>\n",
       "      <td>https://news.yahoo.com/israeli-pm-rival-meet-f...</td>\n",
       "    </tr>\n",
       "    <tr>\n",
       "      <th>3</th>\n",
       "      <td>irans-strange-navy-small-fast-114700802.html</td>\n",
       "      <td>Irans Strange Navy of Small, Fast Boats Is No ...</td>\n",
       "      <td>Tue, 24 Sep 2019 07:47:00 -0400</td>\n",
       "      <td>&lt;p&gt;&lt;a href=\"https://news.yahoo.com/irans-stran...</td>\n",
       "      <td>https://news.yahoo.com/irans-strange-navy-smal...</td>\n",
       "    </tr>\n",
       "    <tr>\n",
       "      <th>4</th>\n",
       "      <td>rashida-tlaib-argues-pro-vaping-213301525.html</td>\n",
       "      <td>Rashida Tlaib argues with pro-vaping witness d...</td>\n",
       "      <td>Tue, 24 Sep 2019 17:33:01 -0400</td>\n",
       "      <td>&lt;p&gt;&lt;a href=\"https://news.yahoo.com/rashida-tla...</td>\n",
       "      <td>https://news.yahoo.com/rashida-tlaib-argues-pr...</td>\n",
       "    </tr>\n",
       "  </tbody>\n",
       "</table>\n",
       "</div>"
      ],
      "text/plain": [
       "                                                  id  \\\n",
       "0  senator-elizabeth-warrens-net-worth-151126747....   \n",
       "1        bill-oreilly-says-book-trump-162056672.html   \n",
       "2         israeli-pm-rival-meet-final-110738975.html   \n",
       "3       irans-strange-navy-small-fast-114700802.html   \n",
       "4     rashida-tlaib-argues-pro-vaping-213301525.html   \n",
       "\n",
       "                                               title  \\\n",
       "0  Senator Elizabeth Warrens net worth revealed a...   \n",
       "1  Bill OReilly says new book on Trump will bring...   \n",
       "2  Israels Netanyahu given chance to form new gov...   \n",
       "3  Irans Strange Navy of Small, Fast Boats Is No ...   \n",
       "4  Rashida Tlaib argues with pro-vaping witness d...   \n",
       "\n",
       "                              date  \\\n",
       "0  Tue, 24 Sep 2019 11:11:26 -0400   \n",
       "1  Tue, 24 Sep 2019 12:20:56 -0400   \n",
       "2  Wed, 25 Sep 2019 14:46:04 -0400   \n",
       "3  Tue, 24 Sep 2019 07:47:00 -0400   \n",
       "4  Tue, 24 Sep 2019 17:33:01 -0400   \n",
       "\n",
       "                                         description  \\\n",
       "0  <p><a href=\"https://news.yahoo.com/senator-eli...   \n",
       "1  <p><a href=\"https://news.yahoo.com/bill-oreill...   \n",
       "2  <p><a href=\"https://news.yahoo.com/israeli-pm-...   \n",
       "3  <p><a href=\"https://news.yahoo.com/irans-stran...   \n",
       "4  <p><a href=\"https://news.yahoo.com/rashida-tla...   \n",
       "\n",
       "                                                link  \n",
       "0  https://news.yahoo.com/senator-elizabeth-warre...  \n",
       "1  https://news.yahoo.com/bill-oreilly-says-book-...  \n",
       "2  https://news.yahoo.com/israeli-pm-rival-meet-f...  \n",
       "3  https://news.yahoo.com/irans-strange-navy-smal...  \n",
       "4  https://news.yahoo.com/rashida-tlaib-argues-pr...  "
      ]
     },
     "execution_count": 10,
     "metadata": {},
     "output_type": "execute_result"
    }
   ],
   "source": [
    "df.head()"
   ]
  },
  {
   "cell_type": "markdown",
   "metadata": {},
   "source": [
    "### process \"description\" html format to get text"
   ]
  },
  {
   "cell_type": "code",
   "execution_count": 11,
   "metadata": {},
   "outputs": [],
   "source": [
    "for index, row in df.iterrows():\n",
    "    row['description'] = BeautifulSoup(row['description']).getText()"
   ]
  },
  {
   "cell_type": "code",
   "execution_count": 12,
   "metadata": {},
   "outputs": [
    {
     "data": {
      "text/html": [
       "<div>\n",
       "<style scoped>\n",
       "    .dataframe tbody tr th:only-of-type {\n",
       "        vertical-align: middle;\n",
       "    }\n",
       "\n",
       "    .dataframe tbody tr th {\n",
       "        vertical-align: top;\n",
       "    }\n",
       "\n",
       "    .dataframe thead th {\n",
       "        text-align: right;\n",
       "    }\n",
       "</style>\n",
       "<table border=\"1\" class=\"dataframe\">\n",
       "  <thead>\n",
       "    <tr style=\"text-align: right;\">\n",
       "      <th></th>\n",
       "      <th>id</th>\n",
       "      <th>title</th>\n",
       "      <th>date</th>\n",
       "      <th>description</th>\n",
       "      <th>link</th>\n",
       "    </tr>\n",
       "  </thead>\n",
       "  <tbody>\n",
       "    <tr>\n",
       "      <th>0</th>\n",
       "      <td>senator-elizabeth-warrens-net-worth-151126747....</td>\n",
       "      <td>Senator Elizabeth Warrens net worth revealed a...</td>\n",
       "      <td>Tue, 24 Sep 2019 11:11:26 -0400</td>\n",
       "      <td>The 2020 President Election is heating up -- a...</td>\n",
       "      <td>https://news.yahoo.com/senator-elizabeth-warre...</td>\n",
       "    </tr>\n",
       "    <tr>\n",
       "      <th>1</th>\n",
       "      <td>bill-oreilly-says-book-trump-162056672.html</td>\n",
       "      <td>Bill OReilly says new book on Trump will bring...</td>\n",
       "      <td>Tue, 24 Sep 2019 12:20:56 -0400</td>\n",
       "      <td>Former Fox News host Bill O'Reilly latest book...</td>\n",
       "      <td>https://news.yahoo.com/bill-oreilly-says-book-...</td>\n",
       "    </tr>\n",
       "    <tr>\n",
       "      <th>2</th>\n",
       "      <td>israeli-pm-rival-meet-final-110738975.html</td>\n",
       "      <td>Israels Netanyahu given chance to form new gov...</td>\n",
       "      <td>Wed, 25 Sep 2019 14:46:04 -0400</td>\n",
       "      <td>Israel's president on Wednesday asked Prime Mi...</td>\n",
       "      <td>https://news.yahoo.com/israeli-pm-rival-meet-f...</td>\n",
       "    </tr>\n",
       "    <tr>\n",
       "      <th>3</th>\n",
       "      <td>irans-strange-navy-small-fast-114700802.html</td>\n",
       "      <td>Irans Strange Navy of Small, Fast Boats Is No ...</td>\n",
       "      <td>Tue, 24 Sep 2019 07:47:00 -0400</td>\n",
       "      <td>A \"mad max\" threat?</td>\n",
       "      <td>https://news.yahoo.com/irans-strange-navy-smal...</td>\n",
       "    </tr>\n",
       "    <tr>\n",
       "      <th>4</th>\n",
       "      <td>rashida-tlaib-argues-pro-vaping-213301525.html</td>\n",
       "      <td>Rashida Tlaib argues with pro-vaping witness d...</td>\n",
       "      <td>Tue, 24 Sep 2019 17:33:01 -0400</td>\n",
       "      <td>\"Are you a conspiracy theorist?\" Rashida Tlaib...</td>\n",
       "      <td>https://news.yahoo.com/rashida-tlaib-argues-pr...</td>\n",
       "    </tr>\n",
       "  </tbody>\n",
       "</table>\n",
       "</div>"
      ],
      "text/plain": [
       "                                                  id  \\\n",
       "0  senator-elizabeth-warrens-net-worth-151126747....   \n",
       "1        bill-oreilly-says-book-trump-162056672.html   \n",
       "2         israeli-pm-rival-meet-final-110738975.html   \n",
       "3       irans-strange-navy-small-fast-114700802.html   \n",
       "4     rashida-tlaib-argues-pro-vaping-213301525.html   \n",
       "\n",
       "                                               title  \\\n",
       "0  Senator Elizabeth Warrens net worth revealed a...   \n",
       "1  Bill OReilly says new book on Trump will bring...   \n",
       "2  Israels Netanyahu given chance to form new gov...   \n",
       "3  Irans Strange Navy of Small, Fast Boats Is No ...   \n",
       "4  Rashida Tlaib argues with pro-vaping witness d...   \n",
       "\n",
       "                              date  \\\n",
       "0  Tue, 24 Sep 2019 11:11:26 -0400   \n",
       "1  Tue, 24 Sep 2019 12:20:56 -0400   \n",
       "2  Wed, 25 Sep 2019 14:46:04 -0400   \n",
       "3  Tue, 24 Sep 2019 07:47:00 -0400   \n",
       "4  Tue, 24 Sep 2019 17:33:01 -0400   \n",
       "\n",
       "                                         description  \\\n",
       "0  The 2020 President Election is heating up -- a...   \n",
       "1  Former Fox News host Bill O'Reilly latest book...   \n",
       "2  Israel's president on Wednesday asked Prime Mi...   \n",
       "3                                A \"mad max\" threat?   \n",
       "4  \"Are you a conspiracy theorist?\" Rashida Tlaib...   \n",
       "\n",
       "                                                link  \n",
       "0  https://news.yahoo.com/senator-elizabeth-warre...  \n",
       "1  https://news.yahoo.com/bill-oreilly-says-book-...  \n",
       "2  https://news.yahoo.com/israeli-pm-rival-meet-f...  \n",
       "3  https://news.yahoo.com/irans-strange-navy-smal...  \n",
       "4  https://news.yahoo.com/rashida-tlaib-argues-pr...  "
      ]
     },
     "execution_count": 12,
     "metadata": {},
     "output_type": "execute_result"
    }
   ],
   "source": [
    "df.head()"
   ]
  },
  {
   "cell_type": "markdown",
   "metadata": {},
   "source": [
    "### extract news full text from \"link\""
   ]
  },
  {
   "cell_type": "code",
   "execution_count": 13,
   "metadata": {},
   "outputs": [],
   "source": [
    "df[\"full text\"] = \"\"\n",
    "for index, row in df.iterrows():\n",
    "    try:\n",
    "        soup = parseHTML(row[\"link\"]) #get website content from link\n",
    "        content = soup.findAll(\"p\") #get content with <p>...</p>\n",
    "        text = ' '.join(list(map(lambda x: x.text, content))) #get text in <p>...</p>\n",
    "        text = text.replace(u'\\xa0', u' ') #remove '\\xa0' in text\n",
    "        row[\"full text\"] = text\n",
    "    except:\n",
    "        continue"
   ]
  },
  {
   "cell_type": "code",
   "execution_count": 14,
   "metadata": {},
   "outputs": [
    {
     "data": {
      "text/html": [
       "<div>\n",
       "<style scoped>\n",
       "    .dataframe tbody tr th:only-of-type {\n",
       "        vertical-align: middle;\n",
       "    }\n",
       "\n",
       "    .dataframe tbody tr th {\n",
       "        vertical-align: top;\n",
       "    }\n",
       "\n",
       "    .dataframe thead th {\n",
       "        text-align: right;\n",
       "    }\n",
       "</style>\n",
       "<table border=\"1\" class=\"dataframe\">\n",
       "  <thead>\n",
       "    <tr style=\"text-align: right;\">\n",
       "      <th></th>\n",
       "      <th>id</th>\n",
       "      <th>title</th>\n",
       "      <th>date</th>\n",
       "      <th>description</th>\n",
       "      <th>link</th>\n",
       "      <th>full text</th>\n",
       "    </tr>\n",
       "  </thead>\n",
       "  <tbody>\n",
       "    <tr>\n",
       "      <th>0</th>\n",
       "      <td>senator-elizabeth-warrens-net-worth-151126747....</td>\n",
       "      <td>Senator Elizabeth Warrens net worth revealed a...</td>\n",
       "      <td>Tue, 24 Sep 2019 11:11:26 -0400</td>\n",
       "      <td>The 2020 President Election is heating up -- a...</td>\n",
       "      <td>https://news.yahoo.com/senator-elizabeth-warre...</td>\n",
       "      <td>The 2020 presidential race is well underway, a...</td>\n",
       "    </tr>\n",
       "    <tr>\n",
       "      <th>1</th>\n",
       "      <td>bill-oreilly-says-book-trump-162056672.html</td>\n",
       "      <td>Bill OReilly says new book on Trump will bring...</td>\n",
       "      <td>Tue, 24 Sep 2019 12:20:56 -0400</td>\n",
       "      <td>Former Fox News host Bill O'Reilly latest book...</td>\n",
       "      <td>https://news.yahoo.com/bill-oreilly-says-book-...</td>\n",
       "      <td>Bill O'Reilly says his new book is the first t...</td>\n",
       "    </tr>\n",
       "    <tr>\n",
       "      <th>2</th>\n",
       "      <td>israeli-pm-rival-meet-final-110738975.html</td>\n",
       "      <td>Israels Netanyahu given chance to form new gov...</td>\n",
       "      <td>Wed, 25 Sep 2019 14:46:04 -0400</td>\n",
       "      <td>Israel's president on Wednesday asked Prime Mi...</td>\n",
       "      <td>https://news.yahoo.com/israeli-pm-rival-meet-f...</td>\n",
       "      <td>JERUSALEM (AP) — Israel's president on Wednesd...</td>\n",
       "    </tr>\n",
       "    <tr>\n",
       "      <th>3</th>\n",
       "      <td>irans-strange-navy-small-fast-114700802.html</td>\n",
       "      <td>Irans Strange Navy of Small, Fast Boats Is No ...</td>\n",
       "      <td>Tue, 24 Sep 2019 07:47:00 -0400</td>\n",
       "      <td>A \"mad max\" threat?</td>\n",
       "      <td>https://news.yahoo.com/irans-strange-navy-smal...</td>\n",
       "      <td>Key point: Iran's navy could still threaten Am...</td>\n",
       "    </tr>\n",
       "    <tr>\n",
       "      <th>4</th>\n",
       "      <td>rashida-tlaib-argues-pro-vaping-213301525.html</td>\n",
       "      <td>Rashida Tlaib argues with pro-vaping witness d...</td>\n",
       "      <td>Tue, 24 Sep 2019 17:33:01 -0400</td>\n",
       "      <td>\"Are you a conspiracy theorist?\" Rashida Tlaib...</td>\n",
       "      <td>https://news.yahoo.com/rashida-tlaib-argues-pr...</td>\n",
       "      <td>In a House Oversight Committee hearing on vapi...</td>\n",
       "    </tr>\n",
       "  </tbody>\n",
       "</table>\n",
       "</div>"
      ],
      "text/plain": [
       "                                                  id  \\\n",
       "0  senator-elizabeth-warrens-net-worth-151126747....   \n",
       "1        bill-oreilly-says-book-trump-162056672.html   \n",
       "2         israeli-pm-rival-meet-final-110738975.html   \n",
       "3       irans-strange-navy-small-fast-114700802.html   \n",
       "4     rashida-tlaib-argues-pro-vaping-213301525.html   \n",
       "\n",
       "                                               title  \\\n",
       "0  Senator Elizabeth Warrens net worth revealed a...   \n",
       "1  Bill OReilly says new book on Trump will bring...   \n",
       "2  Israels Netanyahu given chance to form new gov...   \n",
       "3  Irans Strange Navy of Small, Fast Boats Is No ...   \n",
       "4  Rashida Tlaib argues with pro-vaping witness d...   \n",
       "\n",
       "                              date  \\\n",
       "0  Tue, 24 Sep 2019 11:11:26 -0400   \n",
       "1  Tue, 24 Sep 2019 12:20:56 -0400   \n",
       "2  Wed, 25 Sep 2019 14:46:04 -0400   \n",
       "3  Tue, 24 Sep 2019 07:47:00 -0400   \n",
       "4  Tue, 24 Sep 2019 17:33:01 -0400   \n",
       "\n",
       "                                         description  \\\n",
       "0  The 2020 President Election is heating up -- a...   \n",
       "1  Former Fox News host Bill O'Reilly latest book...   \n",
       "2  Israel's president on Wednesday asked Prime Mi...   \n",
       "3                                A \"mad max\" threat?   \n",
       "4  \"Are you a conspiracy theorist?\" Rashida Tlaib...   \n",
       "\n",
       "                                                link  \\\n",
       "0  https://news.yahoo.com/senator-elizabeth-warre...   \n",
       "1  https://news.yahoo.com/bill-oreilly-says-book-...   \n",
       "2  https://news.yahoo.com/israeli-pm-rival-meet-f...   \n",
       "3  https://news.yahoo.com/irans-strange-navy-smal...   \n",
       "4  https://news.yahoo.com/rashida-tlaib-argues-pr...   \n",
       "\n",
       "                                           full text  \n",
       "0  The 2020 presidential race is well underway, a...  \n",
       "1  Bill O'Reilly says his new book is the first t...  \n",
       "2  JERUSALEM (AP) — Israel's president on Wednesd...  \n",
       "3  Key point: Iran's navy could still threaten Am...  \n",
       "4  In a House Oversight Committee hearing on vapi...  "
      ]
     },
     "execution_count": 14,
     "metadata": {},
     "output_type": "execute_result"
    }
   ],
   "source": [
    "df.head()"
   ]
  },
  {
   "cell_type": "markdown",
   "metadata": {},
   "source": [
    "### output dataframe to csv"
   ]
  },
  {
   "cell_type": "code",
   "execution_count": 15,
   "metadata": {},
   "outputs": [],
   "source": [
    "df.to_csv(\"yahoo_news.csv\", encoding='utf-8')"
   ]
  },
  {
   "cell_type": "code",
   "execution_count": null,
   "metadata": {},
   "outputs": [],
   "source": []
  }
 ],
 "metadata": {
  "kernelspec": {
   "display_name": "Python 3",
   "language": "python",
   "name": "python3"
  },
  "language_info": {
   "codemirror_mode": {
    "name": "ipython",
    "version": 3
   },
   "file_extension": ".py",
   "mimetype": "text/x-python",
   "name": "python",
   "nbconvert_exporter": "python",
   "pygments_lexer": "ipython3",
   "version": "3.6.8"
  }
 },
 "nbformat": 4,
 "nbformat_minor": 2
}
