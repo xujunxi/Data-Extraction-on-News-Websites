{
 "cells": [
  {
   "cell_type": "code",
   "execution_count": 1,
   "metadata": {},
   "outputs": [],
   "source": [
    "import feedparser\n",
    "import pandas as pd\n",
    "import numpy as np\n",
    "\n",
    "from bs4 import BeautifulSoup \n",
    "import urllib"
   ]
  },
  {
   "cell_type": "markdown",
   "metadata": {},
   "source": [
    "### URL of News website RSS"
   ]
  },
  {
   "cell_type": "code",
   "execution_count": 2,
   "metadata": {},
   "outputs": [],
   "source": [
    "#cbc news rss\n",
    "rss_url = \"https://www.cbc.ca/cmlink/rss-canada-toronto\""
   ]
  },
  {
   "cell_type": "markdown",
   "metadata": {},
   "source": [
    "### functions used in this code"
   ]
  },
  {
   "cell_type": "code",
   "execution_count": 3,
   "metadata": {},
   "outputs": [],
   "source": [
    "# fetch the rss feed and return the parsed RSS\n",
    "def parseRSS(url):\n",
    "    return feedparser.parse(url) \n",
    "\n",
    "# return list of news' info in specific area \n",
    "def getInfo(data, area):\n",
    "    info = []\n",
    "    for news in data['entries']:\n",
    "        try:\n",
    "            info.append(news[area])\n",
    "        except:\n",
    "            info.append(\"\")\n",
    "    return info\n",
    "\n",
    "#parse Html in link\n",
    "def parseHTML(url):\n",
    "    url = urllib.request.urlopen(url)\n",
    "    content = url.read()\n",
    "    soup = BeautifulSoup(content, \"html.parser\")\n",
    "    return soup"
   ]
  },
  {
   "cell_type": "markdown",
   "metadata": {},
   "source": [
    "### parse XML"
   ]
  },
  {
   "cell_type": "code",
   "execution_count": 4,
   "metadata": {},
   "outputs": [],
   "source": [
    "data = parseRSS(rss_url)"
   ]
  },
  {
   "cell_type": "markdown",
   "metadata": {},
   "source": [
    "### create DataFrame"
   ]
  },
  {
   "cell_type": "code",
   "execution_count": 5,
   "metadata": {},
   "outputs": [],
   "source": [
    "df = pd.DataFrame()\n",
    "areas = [\"id\", \"title\", \"published\", \"author\", \"summary\", \"link\"]"
   ]
  },
  {
   "cell_type": "code",
   "execution_count": 6,
   "metadata": {},
   "outputs": [],
   "source": [
    "for area in areas:\n",
    "    df[area] = getInfo(data, area)"
   ]
  },
  {
   "cell_type": "code",
   "execution_count": 7,
   "metadata": {},
   "outputs": [],
   "source": [
    "#rename columns\n",
    "df.columns = [\"id\", \"title\", \"date\", \"author\", \"description\", \"link\"]"
   ]
  },
  {
   "cell_type": "code",
   "execution_count": 8,
   "metadata": {},
   "outputs": [
    {
     "data": {
      "text/html": [
       "<div>\n",
       "<style scoped>\n",
       "    .dataframe tbody tr th:only-of-type {\n",
       "        vertical-align: middle;\n",
       "    }\n",
       "\n",
       "    .dataframe tbody tr th {\n",
       "        vertical-align: top;\n",
       "    }\n",
       "\n",
       "    .dataframe thead th {\n",
       "        text-align: right;\n",
       "    }\n",
       "</style>\n",
       "<table border=\"1\" class=\"dataframe\">\n",
       "  <thead>\n",
       "    <tr style=\"text-align: right;\">\n",
       "      <th></th>\n",
       "      <th>id</th>\n",
       "      <th>title</th>\n",
       "      <th>date</th>\n",
       "      <th>author</th>\n",
       "      <th>description</th>\n",
       "      <th>link</th>\n",
       "    </tr>\n",
       "  </thead>\n",
       "  <tbody>\n",
       "    <tr>\n",
       "      <th>0</th>\n",
       "      <td>1.5297702</td>\n",
       "      <td>Salauddin Chowdhury, 65, identified as victim ...</td>\n",
       "      <td>Wed, 25 Sep 2019 22:40:28 EDT</td>\n",
       "      <td>Julia Knope</td>\n",
       "      <td>&lt;img src='https://i.cbc.ca/1.5297745.156946306...</td>\n",
       "      <td>https://www.cbc.ca/news/canada/toronto/salaudd...</td>\n",
       "    </tr>\n",
       "    <tr>\n",
       "      <th>1</th>\n",
       "      <td>1.5297192</td>\n",
       "      <td>Noticing more roadkill around Toronto? You're ...</td>\n",
       "      <td>Wed, 25 Sep 2019 19:50:39 EDT</td>\n",
       "      <td>Julia Knope</td>\n",
       "      <td>&lt;img src='https://i.cbc.ca/1.5297517.156944908...</td>\n",
       "      <td>https://www.cbc.ca/news/canada/toronto/roadkil...</td>\n",
       "    </tr>\n",
       "    <tr>\n",
       "      <th>2</th>\n",
       "      <td>1.5296397</td>\n",
       "      <td>Less student supervision, less school cleaning...</td>\n",
       "      <td>Wed, 25 Sep 2019 08:36:32 EDT</td>\n",
       "      <td>CBC News</td>\n",
       "      <td>&lt;img src='https://i.cbc.ca/1.5296401.156941455...</td>\n",
       "      <td>https://www.cbc.ca/news/canada/toronto/cupe-wo...</td>\n",
       "    </tr>\n",
       "    <tr>\n",
       "      <th>3</th>\n",
       "      <td>1.5297405</td>\n",
       "      <td>1 dead following industrial accident in North ...</td>\n",
       "      <td>Wed, 25 Sep 2019 17:45:39 EDT</td>\n",
       "      <td>CBC News</td>\n",
       "      <td>&lt;img src='https://i.cbc.ca/1.4538532.151878821...</td>\n",
       "      <td>https://www.cbc.ca/news/canada/toronto/one-die...</td>\n",
       "    </tr>\n",
       "    <tr>\n",
       "      <th>4</th>\n",
       "      <td>1.5296649</td>\n",
       "      <td>Leafs star Auston Matthews regrets 'distractio...</td>\n",
       "      <td>Wed, 25 Sep 2019 12:00:34 EDT</td>\n",
       "      <td>Joshua Clipperton</td>\n",
       "      <td>&lt;img src='https://i.cbc.ca/1.5296674.156942695...</td>\n",
       "      <td>https://www.cbc.ca/sports/hockey/nhl/auston-ma...</td>\n",
       "    </tr>\n",
       "  </tbody>\n",
       "</table>\n",
       "</div>"
      ],
      "text/plain": [
       "          id                                              title  \\\n",
       "0  1.5297702  Salauddin Chowdhury, 65, identified as victim ...   \n",
       "1  1.5297192  Noticing more roadkill around Toronto? You're ...   \n",
       "2  1.5296397  Less student supervision, less school cleaning...   \n",
       "3  1.5297405  1 dead following industrial accident in North ...   \n",
       "4  1.5296649  Leafs star Auston Matthews regrets 'distractio...   \n",
       "\n",
       "                            date             author  \\\n",
       "0  Wed, 25 Sep 2019 22:40:28 EDT        Julia Knope   \n",
       "1  Wed, 25 Sep 2019 19:50:39 EDT        Julia Knope   \n",
       "2  Wed, 25 Sep 2019 08:36:32 EDT           CBC News   \n",
       "3  Wed, 25 Sep 2019 17:45:39 EDT           CBC News   \n",
       "4  Wed, 25 Sep 2019 12:00:34 EDT  Joshua Clipperton   \n",
       "\n",
       "                                         description  \\\n",
       "0  <img src='https://i.cbc.ca/1.5297745.156946306...   \n",
       "1  <img src='https://i.cbc.ca/1.5297517.156944908...   \n",
       "2  <img src='https://i.cbc.ca/1.5296401.156941455...   \n",
       "3  <img src='https://i.cbc.ca/1.4538532.151878821...   \n",
       "4  <img src='https://i.cbc.ca/1.5296674.156942695...   \n",
       "\n",
       "                                                link  \n",
       "0  https://www.cbc.ca/news/canada/toronto/salaudd...  \n",
       "1  https://www.cbc.ca/news/canada/toronto/roadkil...  \n",
       "2  https://www.cbc.ca/news/canada/toronto/cupe-wo...  \n",
       "3  https://www.cbc.ca/news/canada/toronto/one-die...  \n",
       "4  https://www.cbc.ca/sports/hockey/nhl/auston-ma...  "
      ]
     },
     "execution_count": 8,
     "metadata": {},
     "output_type": "execute_result"
    }
   ],
   "source": [
    "df.head()"
   ]
  },
  {
   "cell_type": "markdown",
   "metadata": {},
   "source": [
    "### process \"description\" html format to get text"
   ]
  },
  {
   "cell_type": "code",
   "execution_count": 9,
   "metadata": {},
   "outputs": [],
   "source": [
    "for index, row in df.iterrows():\n",
    "    row['description'] = BeautifulSoup(row['description']).find('p').getText()"
   ]
  },
  {
   "cell_type": "code",
   "execution_count": 10,
   "metadata": {},
   "outputs": [
    {
     "data": {
      "text/html": [
       "<div>\n",
       "<style scoped>\n",
       "    .dataframe tbody tr th:only-of-type {\n",
       "        vertical-align: middle;\n",
       "    }\n",
       "\n",
       "    .dataframe tbody tr th {\n",
       "        vertical-align: top;\n",
       "    }\n",
       "\n",
       "    .dataframe thead th {\n",
       "        text-align: right;\n",
       "    }\n",
       "</style>\n",
       "<table border=\"1\" class=\"dataframe\">\n",
       "  <thead>\n",
       "    <tr style=\"text-align: right;\">\n",
       "      <th></th>\n",
       "      <th>id</th>\n",
       "      <th>title</th>\n",
       "      <th>date</th>\n",
       "      <th>author</th>\n",
       "      <th>description</th>\n",
       "      <th>link</th>\n",
       "    </tr>\n",
       "  </thead>\n",
       "  <tbody>\n",
       "    <tr>\n",
       "      <th>0</th>\n",
       "      <td>1.5297702</td>\n",
       "      <td>Salauddin Chowdhury, 65, identified as victim ...</td>\n",
       "      <td>Wed, 25 Sep 2019 22:40:28 EDT</td>\n",
       "      <td>Julia Knope</td>\n",
       "      <td>Family members have identified Salauddin Chowd...</td>\n",
       "      <td>https://www.cbc.ca/news/canada/toronto/salaudd...</td>\n",
       "    </tr>\n",
       "    <tr>\n",
       "      <th>1</th>\n",
       "      <td>1.5297192</td>\n",
       "      <td>Noticing more roadkill around Toronto? You're ...</td>\n",
       "      <td>Wed, 25 Sep 2019 19:50:39 EDT</td>\n",
       "      <td>Julia Knope</td>\n",
       "      <td>When Louise Piper came across a dead raccoon o...</td>\n",
       "      <td>https://www.cbc.ca/news/canada/toronto/roadkil...</td>\n",
       "    </tr>\n",
       "    <tr>\n",
       "      <th>2</th>\n",
       "      <td>1.5296397</td>\n",
       "      <td>Less student supervision, less school cleaning...</td>\n",
       "      <td>Wed, 25 Sep 2019 08:36:32 EDT</td>\n",
       "      <td>CBC News</td>\n",
       "      <td>A union representing education workers and the...</td>\n",
       "      <td>https://www.cbc.ca/news/canada/toronto/cupe-wo...</td>\n",
       "    </tr>\n",
       "    <tr>\n",
       "      <th>3</th>\n",
       "      <td>1.5297405</td>\n",
       "      <td>1 dead following industrial accident in North ...</td>\n",
       "      <td>Wed, 25 Sep 2019 17:45:39 EDT</td>\n",
       "      <td>CBC News</td>\n",
       "      <td>One person is dead following an industrial acc...</td>\n",
       "      <td>https://www.cbc.ca/news/canada/toronto/one-die...</td>\n",
       "    </tr>\n",
       "    <tr>\n",
       "      <th>4</th>\n",
       "      <td>1.5296649</td>\n",
       "      <td>Leafs star Auston Matthews regrets 'distractio...</td>\n",
       "      <td>Wed, 25 Sep 2019 12:00:34 EDT</td>\n",
       "      <td>Joshua Clipperton</td>\n",
       "      <td>Maple Leafs star Auston Matthews said he regre...</td>\n",
       "      <td>https://www.cbc.ca/sports/hockey/nhl/auston-ma...</td>\n",
       "    </tr>\n",
       "  </tbody>\n",
       "</table>\n",
       "</div>"
      ],
      "text/plain": [
       "          id                                              title  \\\n",
       "0  1.5297702  Salauddin Chowdhury, 65, identified as victim ...   \n",
       "1  1.5297192  Noticing more roadkill around Toronto? You're ...   \n",
       "2  1.5296397  Less student supervision, less school cleaning...   \n",
       "3  1.5297405  1 dead following industrial accident in North ...   \n",
       "4  1.5296649  Leafs star Auston Matthews regrets 'distractio...   \n",
       "\n",
       "                            date             author  \\\n",
       "0  Wed, 25 Sep 2019 22:40:28 EDT        Julia Knope   \n",
       "1  Wed, 25 Sep 2019 19:50:39 EDT        Julia Knope   \n",
       "2  Wed, 25 Sep 2019 08:36:32 EDT           CBC News   \n",
       "3  Wed, 25 Sep 2019 17:45:39 EDT           CBC News   \n",
       "4  Wed, 25 Sep 2019 12:00:34 EDT  Joshua Clipperton   \n",
       "\n",
       "                                         description  \\\n",
       "0  Family members have identified Salauddin Chowd...   \n",
       "1  When Louise Piper came across a dead raccoon o...   \n",
       "2  A union representing education workers and the...   \n",
       "3  One person is dead following an industrial acc...   \n",
       "4  Maple Leafs star Auston Matthews said he regre...   \n",
       "\n",
       "                                                link  \n",
       "0  https://www.cbc.ca/news/canada/toronto/salaudd...  \n",
       "1  https://www.cbc.ca/news/canada/toronto/roadkil...  \n",
       "2  https://www.cbc.ca/news/canada/toronto/cupe-wo...  \n",
       "3  https://www.cbc.ca/news/canada/toronto/one-die...  \n",
       "4  https://www.cbc.ca/sports/hockey/nhl/auston-ma...  "
      ]
     },
     "execution_count": 10,
     "metadata": {},
     "output_type": "execute_result"
    }
   ],
   "source": [
    "df.head()"
   ]
  },
  {
   "cell_type": "markdown",
   "metadata": {},
   "source": [
    "### extract news full text from \"link\""
   ]
  },
  {
   "cell_type": "code",
   "execution_count": 11,
   "metadata": {},
   "outputs": [],
   "source": [
    "df[\"full text\"] = \"\"\n",
    "for index, row in df.iterrows():\n",
    "    try:\n",
    "        soup = parseHTML(row[\"link\"]) #get website content from link\n",
    "        content = soup.findAll(\"div\", {\"class\": \"story\"}) #get content in <div class=\"story\">\n",
    "        text = content[0].get_text() #remove html tags\n",
    "        text = text.replace(u'\\xa0', u' ') #remove '\\xa0' in text\n",
    "        row[\"full text\"] = text\n",
    "    except:\n",
    "        continue"
   ]
  },
  {
   "cell_type": "code",
   "execution_count": 12,
   "metadata": {},
   "outputs": [
    {
     "data": {
      "text/html": [
       "<div>\n",
       "<style scoped>\n",
       "    .dataframe tbody tr th:only-of-type {\n",
       "        vertical-align: middle;\n",
       "    }\n",
       "\n",
       "    .dataframe tbody tr th {\n",
       "        vertical-align: top;\n",
       "    }\n",
       "\n",
       "    .dataframe thead th {\n",
       "        text-align: right;\n",
       "    }\n",
       "</style>\n",
       "<table border=\"1\" class=\"dataframe\">\n",
       "  <thead>\n",
       "    <tr style=\"text-align: right;\">\n",
       "      <th></th>\n",
       "      <th>id</th>\n",
       "      <th>title</th>\n",
       "      <th>date</th>\n",
       "      <th>author</th>\n",
       "      <th>description</th>\n",
       "      <th>link</th>\n",
       "      <th>full text</th>\n",
       "    </tr>\n",
       "  </thead>\n",
       "  <tbody>\n",
       "    <tr>\n",
       "      <th>0</th>\n",
       "      <td>1.5297702</td>\n",
       "      <td>Salauddin Chowdhury, 65, identified as victim ...</td>\n",
       "      <td>Wed, 25 Sep 2019 22:40:28 EDT</td>\n",
       "      <td>Julia Knope</td>\n",
       "      <td>Family members have identified Salauddin Chowd...</td>\n",
       "      <td>https://www.cbc.ca/news/canada/toronto/salaudd...</td>\n",
       "      <td>Family members have identified Salauddin Chowd...</td>\n",
       "    </tr>\n",
       "    <tr>\n",
       "      <th>1</th>\n",
       "      <td>1.5297192</td>\n",
       "      <td>Noticing more roadkill around Toronto? You're ...</td>\n",
       "      <td>Wed, 25 Sep 2019 19:50:39 EDT</td>\n",
       "      <td>Julia Knope</td>\n",
       "      <td>When Louise Piper came across a dead raccoon o...</td>\n",
       "      <td>https://www.cbc.ca/news/canada/toronto/roadkil...</td>\n",
       "      <td>When Louise Piper came across a dead raccoon o...</td>\n",
       "    </tr>\n",
       "    <tr>\n",
       "      <th>2</th>\n",
       "      <td>1.5296397</td>\n",
       "      <td>Less student supervision, less school cleaning...</td>\n",
       "      <td>Wed, 25 Sep 2019 08:36:32 EDT</td>\n",
       "      <td>CBC News</td>\n",
       "      <td>A union representing education workers and the...</td>\n",
       "      <td>https://www.cbc.ca/news/canada/toronto/cupe-wo...</td>\n",
       "      <td>A union representing education workers and the...</td>\n",
       "    </tr>\n",
       "    <tr>\n",
       "      <th>3</th>\n",
       "      <td>1.5297405</td>\n",
       "      <td>1 dead following industrial accident in North ...</td>\n",
       "      <td>Wed, 25 Sep 2019 17:45:39 EDT</td>\n",
       "      <td>CBC News</td>\n",
       "      <td>One person is dead following an industrial acc...</td>\n",
       "      <td>https://www.cbc.ca/news/canada/toronto/one-die...</td>\n",
       "      <td>One person is dead following an industrial acc...</td>\n",
       "    </tr>\n",
       "    <tr>\n",
       "      <th>4</th>\n",
       "      <td>1.5296649</td>\n",
       "      <td>Leafs star Auston Matthews regrets 'distractio...</td>\n",
       "      <td>Wed, 25 Sep 2019 12:00:34 EDT</td>\n",
       "      <td>Joshua Clipperton</td>\n",
       "      <td>Maple Leafs star Auston Matthews said he regre...</td>\n",
       "      <td>https://www.cbc.ca/sports/hockey/nhl/auston-ma...</td>\n",
       "      <td>Moments after Auston Matthews delivered a 38-s...</td>\n",
       "    </tr>\n",
       "  </tbody>\n",
       "</table>\n",
       "</div>"
      ],
      "text/plain": [
       "          id                                              title  \\\n",
       "0  1.5297702  Salauddin Chowdhury, 65, identified as victim ...   \n",
       "1  1.5297192  Noticing more roadkill around Toronto? You're ...   \n",
       "2  1.5296397  Less student supervision, less school cleaning...   \n",
       "3  1.5297405  1 dead following industrial accident in North ...   \n",
       "4  1.5296649  Leafs star Auston Matthews regrets 'distractio...   \n",
       "\n",
       "                            date             author  \\\n",
       "0  Wed, 25 Sep 2019 22:40:28 EDT        Julia Knope   \n",
       "1  Wed, 25 Sep 2019 19:50:39 EDT        Julia Knope   \n",
       "2  Wed, 25 Sep 2019 08:36:32 EDT           CBC News   \n",
       "3  Wed, 25 Sep 2019 17:45:39 EDT           CBC News   \n",
       "4  Wed, 25 Sep 2019 12:00:34 EDT  Joshua Clipperton   \n",
       "\n",
       "                                         description  \\\n",
       "0  Family members have identified Salauddin Chowd...   \n",
       "1  When Louise Piper came across a dead raccoon o...   \n",
       "2  A union representing education workers and the...   \n",
       "3  One person is dead following an industrial acc...   \n",
       "4  Maple Leafs star Auston Matthews said he regre...   \n",
       "\n",
       "                                                link  \\\n",
       "0  https://www.cbc.ca/news/canada/toronto/salaudd...   \n",
       "1  https://www.cbc.ca/news/canada/toronto/roadkil...   \n",
       "2  https://www.cbc.ca/news/canada/toronto/cupe-wo...   \n",
       "3  https://www.cbc.ca/news/canada/toronto/one-die...   \n",
       "4  https://www.cbc.ca/sports/hockey/nhl/auston-ma...   \n",
       "\n",
       "                                           full text  \n",
       "0  Family members have identified Salauddin Chowd...  \n",
       "1  When Louise Piper came across a dead raccoon o...  \n",
       "2  A union representing education workers and the...  \n",
       "3  One person is dead following an industrial acc...  \n",
       "4  Moments after Auston Matthews delivered a 38-s...  "
      ]
     },
     "execution_count": 12,
     "metadata": {},
     "output_type": "execute_result"
    }
   ],
   "source": [
    "df.head()"
   ]
  },
  {
   "cell_type": "markdown",
   "metadata": {},
   "source": [
    "### output dataframe to csv"
   ]
  },
  {
   "cell_type": "code",
   "execution_count": 13,
   "metadata": {},
   "outputs": [],
   "source": [
    "df.to_csv(\"cbc_news.csv\", encoding='utf-8')"
   ]
  },
  {
   "cell_type": "code",
   "execution_count": null,
   "metadata": {},
   "outputs": [],
   "source": []
  }
 ],
 "metadata": {
  "kernelspec": {
   "display_name": "Python 3",
   "language": "python",
   "name": "python3"
  },
  "language_info": {
   "codemirror_mode": {
    "name": "ipython",
    "version": 3
   },
   "file_extension": ".py",
   "mimetype": "text/x-python",
   "name": "python",
   "nbconvert_exporter": "python",
   "pygments_lexer": "ipython3",
   "version": "3.7.4"
  }
 },
 "nbformat": 4,
 "nbformat_minor": 2
}
